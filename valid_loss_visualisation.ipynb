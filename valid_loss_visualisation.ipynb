{
 "cells": [
  {
   "cell_type": "code",
   "execution_count": null,
   "metadata": {},
   "outputs": [],
   "source": [
    "import os\n",
    "from tensorboard.backend.event_processing import event_accumulator\n",
    "import datetime\n",
    "import time\n",
    "import matplotlib.pyplot as plt\n",
    "import torch\n",
    "import numpy as np"
   ]
  },
  {
   "cell_type": "code",
   "execution_count": null,
   "metadata": {},
   "outputs": [],
   "source": [
    "def get_logs_data(basepath,dataset, label, curve_type='valid',interval=1,maxepoch=50):\n",
    "    path_t={'adam_cyc_nshrink_MLR2':'adam_cyc_nshrink_1.6e-3',\n",
    "            'adam_cyc_yshrink_MLR2':'adam_cyc_yshrink_1.6e-3',\n",
    "            'adam_cyc_nshrink_MLR1':'adam_cyc_nshrink_5e-4',\n",
    "            'adam_cyc_yshrink_MLR1':'adam_cyc_yshrink_5e-4',\n",
    "            'adam_cyc_nshrink_5e-4_4096':'adam_cyc_nshrink_5e-4',\n",
    "            'sgd_cyc_nshrink_MLR2':'sgd_cyc_nshrink_23.2',\n",
    "            'sgd_cyc_yshrink_MLR2':'sgd_cyc_yshrink_23.2',\n",
    "            'sgd_cyc_nshrink_MLR1':'sgd_cyc_nshrink_6.9',\n",
    "            'sgd_cyc_yshrink_MLR1':'sgd_cyc_yshrink_6.9'}\n",
    "    if label in path_t.keys():\n",
    "        label=path_t[label]\n",
    "    root = basepath+'/'+dataset+'-'+label\n",
    "    #print(root)\n",
    "    files = []\n",
    "    for line in os.listdir(root+'/'+curve_type):\n",
    "        files.append(root+'/'+curve_type+'/'+line)\n",
    "    files = sorted(files)\n",
    "    \n",
    "    ea=event_accumulator.EventAccumulator(files[0])\n",
    "    ea.Reload()\n",
    "    num = len(ea.scalars.Items('loss'))\n",
    "    loss = []\n",
    "    for file in files[:]:\n",
    "        #加载日志数据\n",
    "        ea=event_accumulator.EventAccumulator(file)\n",
    "        ea.Reload()\n",
    "        try:\n",
    "            loss.extend([(i.step, i.value) for i in ea.scalars.Items('loss')])\n",
    "        except:\n",
    "            loss.append(loss[-1])\n",
    "    loss = sorted(loss, key = lambda x : x[0])\n",
    "    return [i[1] for i in loss[:num*maxepoch:interval]]  #  loss\n"
   ]
  },
  {
   "cell_type": "code",
   "execution_count": null,
   "metadata": {},
   "outputs": [],
   "source": [
    "def plot_log(basepath,dataset, model, label_list, curve_type='train', ymin=0, ymax=20,interval=1,index=0):\n",
    "    \n",
    "    title={'iwslt14-fr-en':'IWSLT14-fr-en',\n",
    "           'iwslt17-de-en': 'IWSLT17-de-en',\n",
    "           'iwslt14-de-en':'IWSLT14-de-en'}\n",
    "\n",
    "    plt.figure(figsize=(6, 4))\n",
    "    plt.title('{} Loss for {} on {}'.format(curve_type.capitalize(), model, title[dataset]))\n",
    "    if curve_type =='train':\n",
    "        plt.xlabel('Iteration * {}'.format(str(interval)))\n",
    "    else:\n",
    "        plt.xlabel('Number of Epoch')\n",
    "    plt.ylabel('{} Loss %'.format(curve_type.capitalize()))\n",
    "    plt.ylim(ymin,ymax)\n",
    "    \n",
    "\n",
    "    for label_tuple in label_list:\n",
    "        label = label_tuple[0]\n",
    "        loss =  np.array(get_logs_data(basepath,dataset,label,curve_type, interval, maxepoch=50))\n",
    "\n",
    "        plt.plot(loss, ls=label_tuple[1],label = label)\n",
    "\n",
    "    plt.legend()\n",
    "\n",
    "    save_dir = 'visualization/'+ dataset.lower()+'/'\n",
    "    if os.path.isdir(save_dir):\n",
    "        pass\n",
    "    else:\n",
    "        os.mkdir(save_dir)\n",
    "    \n",
    "    plt.savefig(save_dir+curve_type+'_'+index+'.png',format='png', dpi=1000)\n",
    "    plt.show()\n",
    "\n",
    "    "
   ]
  },
  {
   "cell_type": "markdown",
   "metadata": {},
   "source": [
    "# test on iwslt14-de-en"
   ]
  },
  {
   "cell_type": "code",
   "execution_count": null,
   "metadata": {},
   "outputs": [],
   "source": [
    "label_list = [\n",
    "             ('adam_cyc_nshrink_5e-4', '-'), \\\n",
    "             ('adam_cyc_yshrink_5e-4', '-'), \\\n",
    "             ('adam_inv_1e-3', '--'), \\\n",
    "             ('adam_inv_5e-4', '--'), \\\n",
    "             ('adam_inv_3e-4', '--'), \\\n",
    "             ('adam_inv_1e-5', '--'), \\\n",
    "             ]\n",
    "\n",
    "plot_log(basepath='./tensorboardLog', dataset='iwslt14-de-en', model='transformer', label_list=label_list, \\\n",
    "         curve_type='valid',  ymin=2, ymax=14,index='Figure-3')"
   ]
  },
  {
   "cell_type": "code",
   "execution_count": null,
   "metadata": {},
   "outputs": [],
   "source": [
    "label_list = [\n",
    "             ('sgd_cyc_nshrink_6.9', '-'), \\\n",
    "             ('sgd_cyc_yshrink_6.9', '-'), \\\n",
    "             ('sgd_inv_0.1', '--'), \\\n",
    "             ('sgd_inv_1', '--'), \\\n",
    "             ('sgd_inv_10', '--'), \\\n",
    "             ('sgd_inv_20', '--'), \\\n",
    "             ('sgd_inv_30', '--'), \\\n",
    "             ]\n",
    "\n",
    "plot_log(basepath='./tensorboardLog', dataset='iwslt14-de-en', model='transformer', label_list=label_list, \\\n",
    "         curve_type='valid',  ymin=2, ymax=18,index='Figure-4')\n"
   ]
  },
  {
   "cell_type": "code",
   "execution_count": null,
   "metadata": {},
   "outputs": [],
   "source": [
    "label_list = [('sgd_cyc_nshrink_6.9', '-'), \\\n",
    "              ('sgd_cyc_yshrink_6.9', '-'), \\\n",
    "              ('adam_cyc_nshrink_5e-4', '--'), \\\n",
    "              ('adam_cyc_yshrink_5e-4', '--'), \\\n",
    "             ]\n",
    "plot_log(basepath='./tensorboardLog', dataset='iwslt14-de-en', model='transformer', label_list=label_list, \\\n",
    "         curve_type='valid',  ymin=2, ymax=12,index='Figure-5')"
   ]
  },
  {
   "cell_type": "code",
   "execution_count": null,
   "metadata": {},
   "outputs": [],
   "source": [
    "label_list = [\n",
    "             ('adam_cyc_nshrink_5e-4_4096', '-'), \\\n",
    "             ('adam_cyc_nshrink_5e-4_1024', '-'), \\\n",
    "             ('adam_cyc_nshrink_5e-4_256', '-'), \\\n",
    "             ]\n",
    "\n",
    "plot_log(basepath='./tensorboardLog', dataset='iwslt14-de-en', model='transformer', label_list=label_list, \\\n",
    "         curve_type='valid',  ymin=3, ymax=25,index='Figure-6')\n"
   ]
  },
  {
   "cell_type": "code",
   "execution_count": null,
   "metadata": {},
   "outputs": [],
   "source": [
    "label_list = [\n",
    "             ('sgd_cyc_nshrink_MLR2', '-'), \\\n",
    "             ('sgd_cyc_yshrink_MLR2', '-'), \\\n",
    "             ('sgd_cyc_nshrink_MLR1', '--'), \\\n",
    "             ('sgd_cyc_yshrink_MLR1', '--'), \\\n",
    "             ]\n",
    "plot_log(basepath='./tensorboardLog', dataset='iwslt14-de-en', model='transformer', label_list=label_list, \\\n",
    "         curve_type='valid',  ymin=3, ymax=10,index='Figure-8')\n"
   ]
  },
  {
   "cell_type": "code",
   "execution_count": null,
   "metadata": {},
   "outputs": [],
   "source": [
    "label_list = [\n",
    "             ('adam_cyc_nshrink_MLR2', '-'), \\\n",
    "             ('adam_cyc_yshrink_MLR2', '-'), \\\n",
    "             ('adam_cyc_nshrink_MLR1', '--'), \\\n",
    "             ('adam_cyc_yshrink_MLR1', '--'), \\\n",
    "             ]\n",
    "plot_log(basepath='./tensorboardLog', dataset='iwslt14-de-en', model='transformer', label_list=label_list, \\\n",
    "         curve_type='valid',  ymin=2, ymax=15,index='Figure-9')"
   ]
  },
  {
   "cell_type": "markdown",
   "metadata": {},
   "source": [
    "# test on iwslt17-de-en"
   ]
  },
  {
   "cell_type": "code",
   "execution_count": null,
   "metadata": {},
   "outputs": [],
   "source": [
    "label_list = [('adam_cyc_nshrink_7.6e-4', '-'),\\\n",
    "              ('adam_cyc_yshrink_7.6e-4', '-'),\\\n",
    "              ('adam_inv_7.6e-4', '--'), \\\n",
    "              ('adam_inv_5e-4', '--'), \\\n",
    "              ('adam_inv_3e-4', '--'), \\\n",
    "              ('sgd_cyc_nshrink_8', '-'), \\\n",
    "              ('sgd_inv_30', '--'), \\\n",
    "             ]\n",
    "plot_log(basepath='./tensorboardLog', dataset='iwslt17-de-en', model='transformer', label_list=label_list, \\\n",
    "         curve_type='valid',  ymin=1, ymax=12,index='Figure-11')"
   ]
  },
  {
   "cell_type": "markdown",
   "metadata": {},
   "source": [
    "# Test on iwslt14-fr-en"
   ]
  },
  {
   "cell_type": "code",
   "execution_count": null,
   "metadata": {},
   "outputs": [],
   "source": [
    "label_list = [\n",
    "             ('adam_cyc_nshrink_8e-4','-'), \\\n",
    "             ('adam_cyc_yshrink_8e-4','-'), \\\n",
    "             ('adam_inv_1e-3', '--'), \\\n",
    "             ('adam_inv_8e-4', '--'), \\\n",
    "             ('adam_inv_5e-4', '--'), \\\n",
    "             ('adam_inv_8e-4', '--'), \\\n",
    "             ('adam_inv_1e-5', '--'), \\\n",
    "             ('sgd_inv_30', '--'), \\\n",
    "             ]\n",
    "plot_log(basepath='./tensorboardLog', dataset='iwslt14-fr-en', model='transformer', label_list=label_list, \\\n",
    "         curve_type='valid',  ymin=2, ymax=20,index='Figure-12')\n"
   ]
  }
 ],
 "metadata": {
  "kernelspec": {
   "display_name": "clr_venv",
   "language": "python",
   "name": "clr_venv"
  },
  "language_info": {
   "codemirror_mode": {
    "name": "ipython",
    "version": 3
   },
   "file_extension": ".py",
   "mimetype": "text/x-python",
   "name": "python",
   "nbconvert_exporter": "python",
   "pygments_lexer": "ipython3",
   "version": "3.7.0"
  }
 },
 "nbformat": 4,
 "nbformat_minor": 2
}
