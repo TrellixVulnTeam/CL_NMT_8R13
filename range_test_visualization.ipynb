{
 "cells": [
  {
   "cell_type": "code",
   "execution_count": null,
   "metadata": {},
   "outputs": [],
   "source": [
    "import os\n",
    "from tensorboard.backend.event_processing import event_accumulator\n",
    "import datetime\n",
    "import time\n",
    "import matplotlib.pyplot as plt\n",
    "import torch\n",
    "import numpy as np"
   ]
  },
  {
   "cell_type": "code",
   "execution_count": null,
   "metadata": {},
   "outputs": [],
   "source": [
    "def get_curve_loss(logpath=''):\n",
    "    file = logpath\n",
    "    valloss = []\n",
    "    lr = []\n",
    "    with open(file, 'r') as f:\n",
    "        text = f.readlines()\n",
    "        for i in range(len(text)):\n",
    "            if \"valid on\" in text[i] :\n",
    "                valloss.append(float(text[i].split('|')[3][5:]))\n",
    "                lr.append(float(text[i-1].split(',')[-6][4:]))\n",
    "    return valloss,lr\n",
    "        \n",
    "def plot_loss(dataset, label, logpath='', ymin=0, ymax=20,interval=1,xrange=50):\n",
    "    plt.figure(figsize=(7, 4))\n",
    "    plt.title('The loss of {} on {}'.format(label,dataset))\n",
    "    if interval > 1:\n",
    "        plt.xlabel('Epoch * {}'.format(str(interval)))\n",
    "    else:\n",
    "        plt.xlabel('Learning rate')\n",
    "    plt.ylabel('Loss')\n",
    "    plt.ylim(ymin,ymax)\n",
    "    \n",
    "    linestyle = '-' \n",
    "    valloss,lr = get_curve_loss(logpath)\n",
    "    plt.plot(lr[0:xrange],valloss[0:xrange], label = label, ls = linestyle)\n",
    "    plt.xscale(\"log\")\n",
    "        \n",
    "    plt.legend()\n",
    "    \n",
    "    save_dir = 'visualization/' + dataset + '/'\n",
    "    if os.path.isdir(save_dir):\n",
    "        pass\n",
    "    else:\n",
    "        os.mkdir(save_dir)\n",
    "        \n",
    "    plt.savefig(save_dir+dataset+'_'+label+'_range_test'+'.png',format='png', dpi=1000)\n",
    "    plt.show()        "
   ]
  },
  {
   "cell_type": "markdown",
   "metadata": {},
   "source": [
    "# LR Range Test"
   ]
  },
  {
   "cell_type": "code",
   "execution_count": null,
   "metadata": {},
   "outputs": [],
   "source": [
    "LABEL = 'adam'\n",
    "plot_loss(dataset='IWSLT14-de-en',label=LABEL, logpath=\"./train_log/log_iwslt14-de-en_adam_lr_range_test.out\", ymin=0, ymax=9,xrange=50)"
   ]
  },
  {
   "cell_type": "code",
   "execution_count": null,
   "metadata": {},
   "outputs": [],
   "source": []
  }
 ],
 "metadata": {
  "kernelspec": {
   "display_name": "Python 3",
   "language": "python",
   "name": "python3"
  },
  "language_info": {
   "codemirror_mode": {
    "name": "ipython",
    "version": 3
   },
   "file_extension": ".py",
   "mimetype": "text/x-python",
   "name": "python",
   "nbconvert_exporter": "python",
   "pygments_lexer": "ipython3",
   "version": "3.6.7"
  }
 },
 "nbformat": 4,
 "nbformat_minor": 2
}
