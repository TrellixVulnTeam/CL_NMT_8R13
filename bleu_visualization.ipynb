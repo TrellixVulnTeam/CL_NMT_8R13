{
 "cells": [
  {
   "cell_type": "code",
   "execution_count": null,
   "metadata": {},
   "outputs": [],
   "source": [
    "import os\n",
    "from tensorboard.backend.event_processing import event_accumulator\n",
    "import datetime\n",
    "import time\n",
    "import matplotlib.pyplot as plt\n",
    "import torch\n",
    "import numpy as np"
   ]
  },
  {
   "cell_type": "code",
   "execution_count": null,
   "metadata": {},
   "outputs": [],
   "source": [
    "def get_curve_bleu(basepath,dataset='iwslt14.tokenized.de-en',label=''):\n",
    "    file = basepath+'/'+dataset+'/'+label+'.txt'\n",
    "    bleus = []\n",
    "    with open(file, 'r') as f:\n",
    "        text = f.readlines()\n",
    "        for line in text:\n",
    "            if line.strip() == '':\n",
    "                continue\n",
    "            start = line.index('=')\n",
    "            end = line.index(',')\n",
    "            bleus.append(float(line[start+1:end].strip()))\n",
    "    return bleus\n",
    "        \n",
    "def plot_bleu(basepath,label_list, dataset, ymin=0, ymax=20,interval=1):\n",
    "    \n",
    "    title={'iwslt14.tokenized.fr-en':'IWSLT14-fr-en',\n",
    "           'iwslt17.tokenized.de-en': 'IWSLT17-de-en',\n",
    "           'iwslt14.tokenized.de-en':'IWSLT14-de-en'}\n",
    "    #plt.figure()\n",
    "    plt.figure(figsize=(6, 4))\n",
    "    plt.title('The BLEUs on {}'.format(title[dataset]))\n",
    "    if interval > 1:\n",
    "        plt.xlabel('Epoch * {}'.format(str(interval)))\n",
    "    else:\n",
    "        plt.xlabel('Number of Epoch')\n",
    "    \n",
    "    plt.ylabel('BLEU Value')\n",
    "    plt.ylim(ymin,ymax)\n",
    "    \n",
    "    #for optim in optimizers:\n",
    "    for label in label_list:\n",
    "        bleus =  np.array(get_curve_bleu(basepath,dataset,label[0]))\n",
    "        plt.plot(bleus, label = label[0], ls = label[1])\n",
    "        \n",
    "    plt.legend()\n",
    "    \n",
    "    \n",
    "    \n",
    "    save_dir = 'visualization/' + dataset + '/'\n",
    "    if os.path.isdir(save_dir):\n",
    "        pass\n",
    "    else:\n",
    "        os.mkdir(save_dir)\n",
    "\n",
    "    plt.savefig(save_dir+dataset+'_'+label[0]+'bleu.png',format='png', dpi=1000)\n",
    "    plt.show()        \n",
    "        \n",
    "\n",
    "    "
   ]
  },
  {
   "cell_type": "markdown",
   "metadata": {},
   "source": [
    "# iwslt14-de-en"
   ]
  },
  {
   "cell_type": "code",
   "execution_count": null,
   "metadata": {},
   "outputs": [],
   "source": [
    "label_list = [('adam_cyc_nshrink_5e-4', '-'), \\\n",
    "             ('adam_cyc_yshrink_5e-4', '-'), \\\n",
    "             ('adam_inv_5e-4', '--'), \\\n",
    "             ('sgd_cyc_nshrink_6.9', '-'), \\\n",
    "             ('adam_inv_3e-4', '--'), \\\n",
    "             ('sgd_inv_30', '--'), \\\n",
    "             ]\n",
    "plot_bleu(basepath='./curve_bleu',label_list=label_list,dataset='iwslt14.tokenized.de-en', \\\n",
    "           ymin=0, ymax=35)"
   ]
  },
  {
   "cell_type": "markdown",
   "metadata": {},
   "source": [
    "# iwslt17-de-en"
   ]
  },
  {
   "cell_type": "code",
   "execution_count": null,
   "metadata": {},
   "outputs": [],
   "source": [
    "label_list = [('adam_cyc_nshrink_7.6e-4', '-'), \\\n",
    "             ('adam_cyc_yshrink_7.6e-4', '-'), \\\n",
    "             ('adam_inv_7.6e-4', '--'), \\\n",
    "             ('adam_inv_5e-4', '--'), \\\n",
    "             ('adam_inv_3e-4', '--'), \\\n",
    "             ('sgd_cyc_nshrink_8', '--'), \\\n",
    "             ('sgd_inv_30', '--'), \\\n",
    "             ]\n",
    "plot_bleu(basepath='./curve_bleu',label_list=label_list,dataset='iwslt17.tokenized.de-en', \\\n",
    "        ymin=0, ymax=35)"
   ]
  },
  {
   "cell_type": "markdown",
   "metadata": {},
   "source": [
    "# iwslt14-fr-en"
   ]
  },
  {
   "cell_type": "code",
   "execution_count": null,
   "metadata": {},
   "outputs": [],
   "source": [
    "label_list = [\n",
    "             ('adam_cyc_yshrink_8e-4','-'), \\\n",
    "             ('adam_cyc_nshrink_8e-4','-'), \\\n",
    "             ('adam_inv_8e-4', '--'), \\\n",
    "             ('adam_inv_5e-4', '--'), \\\n",
    "             ('adam_inv_3e-4', '--'), \\\n",
    "             ('adam_inv_1e-5', '--'), \\\n",
    "             ('sgd_inv_30', '--'), \\\n",
    "             ]\n",
    "plot_bleu(basepath='./curve_bleu',label_list=label_list,dataset='iwslt14.tokenized.fr-en', \\\n",
    "        ymin=0, ymax=40)"
   ]
  }
 ],
 "metadata": {
  "kernelspec": {
   "display_name": "Python 3",
   "language": "python",
   "name": "python3"
  },
  "language_info": {
   "codemirror_mode": {
    "name": "ipython",
    "version": 3
   },
   "file_extension": ".py",
   "mimetype": "text/x-python",
   "name": "python",
   "nbconvert_exporter": "python",
   "pygments_lexer": "ipython3",
   "version": "3.6.7"
  }
 },
 "nbformat": 4,
 "nbformat_minor": 2
}
